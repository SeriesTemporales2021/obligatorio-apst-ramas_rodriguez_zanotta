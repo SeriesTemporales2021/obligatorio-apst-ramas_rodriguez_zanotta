{
 "cells": [
  {
   "cell_type": "markdown",
   "metadata": {},
   "source": [
    "# Obligatorio de Analisis Predictivo de Series Temporales\n",
    "\n",
    "\n",
    "## Título del trabajo\n",
    "\n",
    "## Estudiantes: ...\n"
   ]
  },
  {
   "cell_type": "code",
   "execution_count": 1,
   "metadata": {},
   "outputs": [],
   "source": [
    "#cargo bibliotecas\n",
    "library(astsa)\n",
    "\n",
    "#ajusto tamaño de gráficas\n",
    "options(repr.plot.width=15, repr.plot.height=8)"
   ]
  },
  {
   "cell_type": "markdown",
   "metadata": {},
   "source": [
    "## Estructura sugerida (la pueden modificar a gusto)\n",
    "\n",
    "1. Presentación de la serie de datos. Gráficas.\n",
    "\n",
    "2. Análisis exploratorio (transformaciones, búsqueda de tendencias o ciclos). Estacionarizacion.\n",
    "\n",
    "3. Modelos estadísticos (ej ARMA, ARIMA, DLM, lo que se aplique). Análisis detallado y residuos.\n",
    "    \n",
    "    1. Modelo a\n",
    "    2. Modelo b\n",
    "    ...\n",
    "\n",
    "4. Proyecciones y/o validacion.\n"
   ]
  }
 ],
 "metadata": {
  "hide_input": false,
  "kernelspec": {
   "display_name": "R",
   "language": "R",
   "name": "ir"
  },
  "language_info": {
   "codemirror_mode": "r",
   "file_extension": ".r",
   "mimetype": "text/x-r-source",
   "name": "R",
   "pygments_lexer": "r",
   "version": "4.1.0"
  }
 },
 "nbformat": 4,
 "nbformat_minor": 4
}
